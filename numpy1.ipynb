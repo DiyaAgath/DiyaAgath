{
 "cells": [
  {
   "cell_type": "code",
   "execution_count": 1,
   "id": "b3269881",
   "metadata": {
    "_cell_guid": "b1076dfc-b9ad-4769-8c92-a6c4dae69d19",
    "_uuid": "8f2839f25d086af736a60e9eeb907d3b93b6e0e5",
    "execution": {
     "iopub.execute_input": "2024-06-27T21:34:01.420433Z",
     "iopub.status.busy": "2024-06-27T21:34:01.419941Z",
     "iopub.status.idle": "2024-06-27T21:34:01.434482Z",
     "shell.execute_reply": "2024-06-27T21:34:01.433340Z"
    },
    "papermill": {
     "duration": 0.029554,
     "end_time": "2024-06-27T21:34:01.437184",
     "exception": false,
     "start_time": "2024-06-27T21:34:01.407630",
     "status": "completed"
    },
    "tags": []
   },
   "outputs": [],
   "source": [
    "import numpy as np"
   ]
  },
  {
   "cell_type": "code",
   "execution_count": 2,
   "id": "f762163b",
   "metadata": {
    "execution": {
     "iopub.execute_input": "2024-06-27T21:34:01.459615Z",
     "iopub.status.busy": "2024-06-27T21:34:01.459167Z",
     "iopub.status.idle": "2024-06-27T21:34:01.465600Z",
     "shell.execute_reply": "2024-06-27T21:34:01.464214Z"
    },
    "papermill": {
     "duration": 0.02134,
     "end_time": "2024-06-27T21:34:01.467930",
     "exception": false,
     "start_time": "2024-06-27T21:34:01.446590",
     "status": "completed"
    },
    "tags": []
   },
   "outputs": [],
   "source": [
    "l = [3,6,32,7]\n",
    "arr = np.array(l)"
   ]
  },
  {
   "cell_type": "code",
   "execution_count": 3,
   "id": "c83fa7be",
   "metadata": {
    "execution": {
     "iopub.execute_input": "2024-06-27T21:34:01.488866Z",
     "iopub.status.busy": "2024-06-27T21:34:01.487899Z",
     "iopub.status.idle": "2024-06-27T21:34:01.498137Z",
     "shell.execute_reply": "2024-06-27T21:34:01.496916Z"
    },
    "papermill": {
     "duration": 0.024164,
     "end_time": "2024-06-27T21:34:01.501512",
     "exception": false,
     "start_time": "2024-06-27T21:34:01.477348",
     "status": "completed"
    },
    "tags": []
   },
   "outputs": [
    {
     "data": {
      "text/plain": [
       "array([ 3,  6, 32,  7])"
      ]
     },
     "execution_count": 3,
     "metadata": {},
     "output_type": "execute_result"
    }
   ],
   "source": [
    "arr"
   ]
  },
  {
   "cell_type": "code",
   "execution_count": 4,
   "id": "1b6ab436",
   "metadata": {
    "execution": {
     "iopub.execute_input": "2024-06-27T21:34:01.523387Z",
     "iopub.status.busy": "2024-06-27T21:34:01.522982Z",
     "iopub.status.idle": "2024-06-27T21:34:01.528572Z",
     "shell.execute_reply": "2024-06-27T21:34:01.527398Z"
    },
    "papermill": {
     "duration": 0.019804,
     "end_time": "2024-06-27T21:34:01.531237",
     "exception": false,
     "start_time": "2024-06-27T21:34:01.511433",
     "status": "completed"
    },
    "tags": []
   },
   "outputs": [],
   "source": [
    "arr1 = np.array([[1,2,3],[4,5,6]])"
   ]
  },
  {
   "cell_type": "code",
   "execution_count": 5,
   "id": "59cd3d75",
   "metadata": {
    "execution": {
     "iopub.execute_input": "2024-06-27T21:34:01.552909Z",
     "iopub.status.busy": "2024-06-27T21:34:01.552487Z",
     "iopub.status.idle": "2024-06-27T21:34:01.560427Z",
     "shell.execute_reply": "2024-06-27T21:34:01.558715Z"
    },
    "papermill": {
     "duration": 0.022484,
     "end_time": "2024-06-27T21:34:01.563214",
     "exception": false,
     "start_time": "2024-06-27T21:34:01.540730",
     "status": "completed"
    },
    "tags": []
   },
   "outputs": [
    {
     "data": {
      "text/plain": [
       "2"
      ]
     },
     "execution_count": 5,
     "metadata": {},
     "output_type": "execute_result"
    }
   ],
   "source": [
    "arr1[0,1]"
   ]
  },
  {
   "cell_type": "code",
   "execution_count": 6,
   "id": "cdcd334a",
   "metadata": {
    "execution": {
     "iopub.execute_input": "2024-06-27T21:34:01.584843Z",
     "iopub.status.busy": "2024-06-27T21:34:01.584424Z",
     "iopub.status.idle": "2024-06-27T21:34:01.592262Z",
     "shell.execute_reply": "2024-06-27T21:34:01.590780Z"
    },
    "papermill": {
     "duration": 0.022405,
     "end_time": "2024-06-27T21:34:01.595561",
     "exception": false,
     "start_time": "2024-06-27T21:34:01.573156",
     "status": "completed"
    },
    "tags": []
   },
   "outputs": [
    {
     "data": {
      "text/plain": [
       "3"
      ]
     },
     "execution_count": 6,
     "metadata": {},
     "output_type": "execute_result"
    }
   ],
   "source": [
    "arr[0]"
   ]
  },
  {
   "cell_type": "code",
   "execution_count": 7,
   "id": "48819520",
   "metadata": {
    "execution": {
     "iopub.execute_input": "2024-06-27T21:34:01.617425Z",
     "iopub.status.busy": "2024-06-27T21:34:01.616984Z",
     "iopub.status.idle": "2024-06-27T21:34:01.624335Z",
     "shell.execute_reply": "2024-06-27T21:34:01.623119Z"
    },
    "papermill": {
     "duration": 0.021003,
     "end_time": "2024-06-27T21:34:01.626770",
     "exception": false,
     "start_time": "2024-06-27T21:34:01.605767",
     "status": "completed"
    },
    "tags": []
   },
   "outputs": [
    {
     "data": {
      "text/plain": [
       "array([1, 2, 3])"
      ]
     },
     "execution_count": 7,
     "metadata": {},
     "output_type": "execute_result"
    }
   ],
   "source": [
    "arr1[0]"
   ]
  },
  {
   "cell_type": "code",
   "execution_count": 8,
   "id": "25f06f93",
   "metadata": {
    "execution": {
     "iopub.execute_input": "2024-06-27T21:34:01.648476Z",
     "iopub.status.busy": "2024-06-27T21:34:01.648059Z",
     "iopub.status.idle": "2024-06-27T21:34:01.655352Z",
     "shell.execute_reply": "2024-06-27T21:34:01.654128Z"
    },
    "papermill": {
     "duration": 0.021279,
     "end_time": "2024-06-27T21:34:01.657944",
     "exception": false,
     "start_time": "2024-06-27T21:34:01.636665",
     "status": "completed"
    },
    "tags": []
   },
   "outputs": [
    {
     "data": {
      "text/plain": [
       "(2, 3)"
      ]
     },
     "execution_count": 8,
     "metadata": {},
     "output_type": "execute_result"
    }
   ],
   "source": [
    "arr1.shape"
   ]
  },
  {
   "cell_type": "code",
   "execution_count": 9,
   "id": "92e7f720",
   "metadata": {
    "execution": {
     "iopub.execute_input": "2024-06-27T21:34:01.682405Z",
     "iopub.status.busy": "2024-06-27T21:34:01.682013Z",
     "iopub.status.idle": "2024-06-27T21:34:01.689569Z",
     "shell.execute_reply": "2024-06-27T21:34:01.688470Z"
    },
    "papermill": {
     "duration": 0.024058,
     "end_time": "2024-06-27T21:34:01.692142",
     "exception": false,
     "start_time": "2024-06-27T21:34:01.668084",
     "status": "completed"
    },
    "tags": []
   },
   "outputs": [
    {
     "data": {
      "text/plain": [
       "(4,)"
      ]
     },
     "execution_count": 9,
     "metadata": {},
     "output_type": "execute_result"
    }
   ],
   "source": [
    "arr.shape"
   ]
  },
  {
   "cell_type": "code",
   "execution_count": 10,
   "id": "accd6932",
   "metadata": {
    "execution": {
     "iopub.execute_input": "2024-06-27T21:34:01.714642Z",
     "iopub.status.busy": "2024-06-27T21:34:01.714247Z",
     "iopub.status.idle": "2024-06-27T21:34:01.723008Z",
     "shell.execute_reply": "2024-06-27T21:34:01.721661Z"
    },
    "papermill": {
     "duration": 0.023428,
     "end_time": "2024-06-27T21:34:01.726121",
     "exception": false,
     "start_time": "2024-06-27T21:34:01.702693",
     "status": "completed"
    },
    "tags": []
   },
   "outputs": [
    {
     "data": {
      "text/plain": [
       "dtype('int64')"
      ]
     },
     "execution_count": 10,
     "metadata": {},
     "output_type": "execute_result"
    }
   ],
   "source": [
    "arr.dtype"
   ]
  },
  {
   "cell_type": "code",
   "execution_count": 11,
   "id": "7f3d6c9c",
   "metadata": {
    "execution": {
     "iopub.execute_input": "2024-06-27T21:34:01.749540Z",
     "iopub.status.busy": "2024-06-27T21:34:01.749126Z",
     "iopub.status.idle": "2024-06-27T21:34:01.754491Z",
     "shell.execute_reply": "2024-06-27T21:34:01.753337Z"
    },
    "papermill": {
     "duration": 0.020261,
     "end_time": "2024-06-27T21:34:01.757072",
     "exception": false,
     "start_time": "2024-06-27T21:34:01.736811",
     "status": "completed"
    },
    "tags": []
   },
   "outputs": [],
   "source": [
    "arr[1]=45\n"
   ]
  },
  {
   "cell_type": "code",
   "execution_count": 12,
   "id": "d2f49e17",
   "metadata": {
    "execution": {
     "iopub.execute_input": "2024-06-27T21:34:01.780865Z",
     "iopub.status.busy": "2024-06-27T21:34:01.780480Z",
     "iopub.status.idle": "2024-06-27T21:34:01.787844Z",
     "shell.execute_reply": "2024-06-27T21:34:01.786575Z"
    },
    "papermill": {
     "duration": 0.022591,
     "end_time": "2024-06-27T21:34:01.790407",
     "exception": false,
     "start_time": "2024-06-27T21:34:01.767816",
     "status": "completed"
    },
    "tags": []
   },
   "outputs": [
    {
     "data": {
      "text/plain": [
       "array([ 3, 45, 32,  7])"
      ]
     },
     "execution_count": 12,
     "metadata": {},
     "output_type": "execute_result"
    }
   ],
   "source": [
    "arr\n"
   ]
  },
  {
   "cell_type": "markdown",
   "id": "148dce4e",
   "metadata": {
    "papermill": {
     "duration": 0.010598,
     "end_time": "2024-06-27T21:34:01.812729",
     "exception": false,
     "start_time": "2024-06-27T21:34:01.802131",
     "status": "completed"
    },
    "tags": []
   },
   "source": [
    "# ***Conversion from other Python structures ***"
   ]
  },
  {
   "cell_type": "code",
   "execution_count": 13,
   "id": "8c7a28d9",
   "metadata": {
    "execution": {
     "iopub.execute_input": "2024-06-27T21:34:01.835794Z",
     "iopub.status.busy": "2024-06-27T21:34:01.835397Z",
     "iopub.status.idle": "2024-06-27T21:34:01.841383Z",
     "shell.execute_reply": "2024-06-27T21:34:01.839502Z"
    },
    "papermill": {
     "duration": 0.021025,
     "end_time": "2024-06-27T21:34:01.844433",
     "exception": false,
     "start_time": "2024-06-27T21:34:01.823408",
     "status": "completed"
    },
    "tags": []
   },
   "outputs": [],
   "source": [
    "import numpy as np"
   ]
  },
  {
   "cell_type": "code",
   "execution_count": 14,
   "id": "ea7c28f2",
   "metadata": {
    "execution": {
     "iopub.execute_input": "2024-06-27T21:34:01.867816Z",
     "iopub.status.busy": "2024-06-27T21:34:01.867437Z",
     "iopub.status.idle": "2024-06-27T21:34:01.874797Z",
     "shell.execute_reply": "2024-06-27T21:34:01.872799Z"
    },
    "papermill": {
     "duration": 0.023287,
     "end_time": "2024-06-27T21:34:01.878361",
     "exception": false,
     "start_time": "2024-06-27T21:34:01.855074",
     "status": "completed"
    },
    "tags": []
   },
   "outputs": [],
   "source": [
    "lstarr=np.array([[1,2,3],[5,8,5],[0,3,1]])"
   ]
  },
  {
   "cell_type": "code",
   "execution_count": 15,
   "id": "e2b8ab79",
   "metadata": {
    "execution": {
     "iopub.execute_input": "2024-06-27T21:34:01.903299Z",
     "iopub.status.busy": "2024-06-27T21:34:01.902821Z",
     "iopub.status.idle": "2024-06-27T21:34:01.910930Z",
     "shell.execute_reply": "2024-06-27T21:34:01.909443Z"
    },
    "papermill": {
     "duration": 0.024089,
     "end_time": "2024-06-27T21:34:01.913844",
     "exception": false,
     "start_time": "2024-06-27T21:34:01.889755",
     "status": "completed"
    },
    "tags": []
   },
   "outputs": [
    {
     "data": {
      "text/plain": [
       "array([[1, 2, 3],\n",
       "       [5, 8, 5],\n",
       "       [0, 3, 1]])"
      ]
     },
     "execution_count": 15,
     "metadata": {},
     "output_type": "execute_result"
    }
   ],
   "source": [
    "lstarr"
   ]
  },
  {
   "cell_type": "code",
   "execution_count": 16,
   "id": "90c82e04",
   "metadata": {
    "execution": {
     "iopub.execute_input": "2024-06-27T21:34:01.938773Z",
     "iopub.status.busy": "2024-06-27T21:34:01.938388Z",
     "iopub.status.idle": "2024-06-27T21:34:01.946339Z",
     "shell.execute_reply": "2024-06-27T21:34:01.944977Z"
    },
    "papermill": {
     "duration": 0.02285,
     "end_time": "2024-06-27T21:34:01.948913",
     "exception": false,
     "start_time": "2024-06-27T21:34:01.926063",
     "status": "completed"
    },
    "tags": []
   },
   "outputs": [
    {
     "data": {
      "text/plain": [
       "dtype('int64')"
      ]
     },
     "execution_count": 16,
     "metadata": {},
     "output_type": "execute_result"
    }
   ],
   "source": [
    "lstarr.dtype"
   ]
  },
  {
   "cell_type": "code",
   "execution_count": 17,
   "id": "1e801444",
   "metadata": {
    "execution": {
     "iopub.execute_input": "2024-06-27T21:34:01.973874Z",
     "iopub.status.busy": "2024-06-27T21:34:01.973463Z",
     "iopub.status.idle": "2024-06-27T21:34:01.981463Z",
     "shell.execute_reply": "2024-06-27T21:34:01.980092Z"
    },
    "papermill": {
     "duration": 0.023635,
     "end_time": "2024-06-27T21:34:01.984247",
     "exception": false,
     "start_time": "2024-06-27T21:34:01.960612",
     "status": "completed"
    },
    "tags": []
   },
   "outputs": [
    {
     "data": {
      "text/plain": [
       "(3, 3)"
      ]
     },
     "execution_count": 17,
     "metadata": {},
     "output_type": "execute_result"
    }
   ],
   "source": [
    "lstarr.shape"
   ]
  },
  {
   "cell_type": "code",
   "execution_count": 18,
   "id": "680aede6",
   "metadata": {
    "execution": {
     "iopub.execute_input": "2024-06-27T21:34:02.008741Z",
     "iopub.status.busy": "2024-06-27T21:34:02.008341Z",
     "iopub.status.idle": "2024-06-27T21:34:02.015805Z",
     "shell.execute_reply": "2024-06-27T21:34:02.014616Z"
    },
    "papermill": {
     "duration": 0.022587,
     "end_time": "2024-06-27T21:34:02.018476",
     "exception": false,
     "start_time": "2024-06-27T21:34:01.995889",
     "status": "completed"
    },
    "tags": []
   },
   "outputs": [
    {
     "data": {
      "text/plain": [
       "9"
      ]
     },
     "execution_count": 18,
     "metadata": {},
     "output_type": "execute_result"
    }
   ],
   "source": [
    "lstarr.size"
   ]
  },
  {
   "cell_type": "markdown",
   "id": "b7fdfd28",
   "metadata": {
    "papermill": {
     "duration": 0.011317,
     "end_time": "2024-06-27T21:34:02.041007",
     "exception": false,
     "start_time": "2024-06-27T21:34:02.029690",
     "status": "completed"
    },
    "tags": []
   },
   "source": [
    "# Intrinsic NumPy array creation functions ******"
   ]
  },
  {
   "cell_type": "code",
   "execution_count": 19,
   "id": "d27f6626",
   "metadata": {
    "execution": {
     "iopub.execute_input": "2024-06-27T21:34:02.065849Z",
     "iopub.status.busy": "2024-06-27T21:34:02.065439Z",
     "iopub.status.idle": "2024-06-27T21:34:02.071413Z",
     "shell.execute_reply": "2024-06-27T21:34:02.070109Z"
    },
    "papermill": {
     "duration": 0.022113,
     "end_time": "2024-06-27T21:34:02.074125",
     "exception": false,
     "start_time": "2024-06-27T21:34:02.052012",
     "status": "completed"
    },
    "tags": []
   },
   "outputs": [],
   "source": [
    "zeros = np.zeros((2,5))"
   ]
  },
  {
   "cell_type": "code",
   "execution_count": 20,
   "id": "c56e1dcb",
   "metadata": {
    "execution": {
     "iopub.execute_input": "2024-06-27T21:34:02.099235Z",
     "iopub.status.busy": "2024-06-27T21:34:02.098812Z",
     "iopub.status.idle": "2024-06-27T21:34:02.106344Z",
     "shell.execute_reply": "2024-06-27T21:34:02.105020Z"
    },
    "papermill": {
     "duration": 0.022776,
     "end_time": "2024-06-27T21:34:02.109134",
     "exception": false,
     "start_time": "2024-06-27T21:34:02.086358",
     "status": "completed"
    },
    "tags": []
   },
   "outputs": [
    {
     "data": {
      "text/plain": [
       "array([[0., 0., 0., 0., 0.],\n",
       "       [0., 0., 0., 0., 0.]])"
      ]
     },
     "execution_count": 20,
     "metadata": {},
     "output_type": "execute_result"
    }
   ],
   "source": [
    "zeros"
   ]
  },
  {
   "cell_type": "code",
   "execution_count": 21,
   "id": "17967661",
   "metadata": {
    "execution": {
     "iopub.execute_input": "2024-06-27T21:34:02.136485Z",
     "iopub.status.busy": "2024-06-27T21:34:02.136073Z",
     "iopub.status.idle": "2024-06-27T21:34:02.143122Z",
     "shell.execute_reply": "2024-06-27T21:34:02.141992Z"
    },
    "papermill": {
     "duration": 0.023047,
     "end_time": "2024-06-27T21:34:02.145562",
     "exception": false,
     "start_time": "2024-06-27T21:34:02.122515",
     "status": "completed"
    },
    "tags": []
   },
   "outputs": [
    {
     "data": {
      "text/plain": [
       "dtype('float64')"
      ]
     },
     "execution_count": 21,
     "metadata": {},
     "output_type": "execute_result"
    }
   ],
   "source": [
    "zeros.dtype"
   ]
  },
  {
   "cell_type": "code",
   "execution_count": 22,
   "id": "228d5e6b",
   "metadata": {
    "execution": {
     "iopub.execute_input": "2024-06-27T21:34:02.171771Z",
     "iopub.status.busy": "2024-06-27T21:34:02.171347Z",
     "iopub.status.idle": "2024-06-27T21:34:02.180367Z",
     "shell.execute_reply": "2024-06-27T21:34:02.178464Z"
    },
    "papermill": {
     "duration": 0.024739,
     "end_time": "2024-06-27T21:34:02.183106",
     "exception": false,
     "start_time": "2024-06-27T21:34:02.158367",
     "status": "completed"
    },
    "tags": []
   },
   "outputs": [
    {
     "data": {
      "text/plain": [
       "(2, 5)"
      ]
     },
     "execution_count": 22,
     "metadata": {},
     "output_type": "execute_result"
    }
   ],
   "source": [
    "zeros.shape"
   ]
  },
  {
   "cell_type": "code",
   "execution_count": 23,
   "id": "bfd017af",
   "metadata": {
    "execution": {
     "iopub.execute_input": "2024-06-27T21:34:02.208252Z",
     "iopub.status.busy": "2024-06-27T21:34:02.207791Z",
     "iopub.status.idle": "2024-06-27T21:34:02.212915Z",
     "shell.execute_reply": "2024-06-27T21:34:02.211689Z"
    },
    "papermill": {
     "duration": 0.020989,
     "end_time": "2024-06-27T21:34:02.215753",
     "exception": false,
     "start_time": "2024-06-27T21:34:02.194764",
     "status": "completed"
    },
    "tags": []
   },
   "outputs": [],
   "source": [
    "rng = np.arange(15)"
   ]
  },
  {
   "cell_type": "code",
   "execution_count": 24,
   "id": "e2f13229",
   "metadata": {
    "execution": {
     "iopub.execute_input": "2024-06-27T21:34:02.243139Z",
     "iopub.status.busy": "2024-06-27T21:34:02.242722Z",
     "iopub.status.idle": "2024-06-27T21:34:02.250587Z",
     "shell.execute_reply": "2024-06-27T21:34:02.248706Z"
    },
    "papermill": {
     "duration": 0.025435,
     "end_time": "2024-06-27T21:34:02.253346",
     "exception": false,
     "start_time": "2024-06-27T21:34:02.227911",
     "status": "completed"
    },
    "tags": []
   },
   "outputs": [
    {
     "data": {
      "text/plain": [
       "array([ 0,  1,  2,  3,  4,  5,  6,  7,  8,  9, 10, 11, 12, 13, 14])"
      ]
     },
     "execution_count": 24,
     "metadata": {},
     "output_type": "execute_result"
    }
   ],
   "source": [
    "rng"
   ]
  },
  {
   "cell_type": "code",
   "execution_count": 25,
   "id": "029a58d2",
   "metadata": {
    "execution": {
     "iopub.execute_input": "2024-06-27T21:34:02.279285Z",
     "iopub.status.busy": "2024-06-27T21:34:02.278778Z",
     "iopub.status.idle": "2024-06-27T21:34:02.284458Z",
     "shell.execute_reply": "2024-06-27T21:34:02.283195Z"
    },
    "papermill": {
     "duration": 0.021391,
     "end_time": "2024-06-27T21:34:02.286916",
     "exception": false,
     "start_time": "2024-06-27T21:34:02.265525",
     "status": "completed"
    },
    "tags": []
   },
   "outputs": [],
   "source": [
    "lspace = np.linspace(1,4,4)"
   ]
  },
  {
   "cell_type": "code",
   "execution_count": 26,
   "id": "bbb077e4",
   "metadata": {
    "execution": {
     "iopub.execute_input": "2024-06-27T21:34:02.313896Z",
     "iopub.status.busy": "2024-06-27T21:34:02.313515Z",
     "iopub.status.idle": "2024-06-27T21:34:02.321314Z",
     "shell.execute_reply": "2024-06-27T21:34:02.319942Z"
    },
    "papermill": {
     "duration": 0.024389,
     "end_time": "2024-06-27T21:34:02.324523",
     "exception": false,
     "start_time": "2024-06-27T21:34:02.300134",
     "status": "completed"
    },
    "tags": []
   },
   "outputs": [
    {
     "data": {
      "text/plain": [
       "array([1., 2., 3., 4.])"
      ]
     },
     "execution_count": 26,
     "metadata": {},
     "output_type": "execute_result"
    }
   ],
   "source": [
    "lspace"
   ]
  },
  {
   "cell_type": "code",
   "execution_count": null,
   "id": "b8c533bb",
   "metadata": {
    "papermill": {
     "duration": 0.011469,
     "end_time": "2024-06-27T21:34:02.348662",
     "exception": false,
     "start_time": "2024-06-27T21:34:02.337193",
     "status": "completed"
    },
    "tags": []
   },
   "outputs": [],
   "source": []
  }
 ],
 "metadata": {
  "kaggle": {
   "accelerator": "none",
   "dataSources": [],
   "dockerImageVersionId": 30732,
   "isGpuEnabled": false,
   "isInternetEnabled": false,
   "language": "python",
   "sourceType": "notebook"
  },
  "kernelspec": {
   "display_name": "Python 3",
   "language": "python",
   "name": "python3"
  },
  "language_info": {
   "codemirror_mode": {
    "name": "ipython",
    "version": 3
   },
   "file_extension": ".py",
   "mimetype": "text/x-python",
   "name": "python",
   "nbconvert_exporter": "python",
   "pygments_lexer": "ipython3",
   "version": "3.10.13"
  },
  "papermill": {
   "default_parameters": {},
   "duration": 4.68512,
   "end_time": "2024-06-27T21:34:02.782302",
   "environment_variables": {},
   "exception": null,
   "input_path": "__notebook__.ipynb",
   "output_path": "__notebook__.ipynb",
   "parameters": {},
   "start_time": "2024-06-27T21:33:58.097182",
   "version": "2.5.0"
  }
 },
 "nbformat": 4,
 "nbformat_minor": 5
}
