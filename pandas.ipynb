{
 "cells": [
  {
   "cell_type": "code",
   "execution_count": 1,
   "id": "83c9620d",
   "metadata": {
    "_cell_guid": "b1076dfc-b9ad-4769-8c92-a6c4dae69d19",
    "_uuid": "8f2839f25d086af736a60e9eeb907d3b93b6e0e5",
    "execution": {
     "iopub.execute_input": "2024-07-02T10:24:25.264760Z",
     "iopub.status.busy": "2024-07-02T10:24:25.264343Z",
     "iopub.status.idle": "2024-07-02T10:24:26.141464Z",
     "shell.execute_reply": "2024-07-02T10:24:26.140320Z"
    },
    "papermill": {
     "duration": 0.886756,
     "end_time": "2024-07-02T10:24:26.143975",
     "exception": false,
     "start_time": "2024-07-02T10:24:25.257219",
     "status": "completed"
    },
    "tags": []
   },
   "outputs": [],
   "source": [
    "import numpy as np\n",
    "import pandas as pd"
   ]
  },
  {
   "cell_type": "code",
   "execution_count": 2,
   "id": "20aeed6b",
   "metadata": {
    "execution": {
     "iopub.execute_input": "2024-07-02T10:24:26.155502Z",
     "iopub.status.busy": "2024-07-02T10:24:26.155031Z",
     "iopub.status.idle": "2024-07-02T10:24:26.160533Z",
     "shell.execute_reply": "2024-07-02T10:24:26.159441Z"
    },
    "papermill": {
     "duration": 0.013707,
     "end_time": "2024-07-02T10:24:26.162851",
     "exception": false,
     "start_time": "2024-07-02T10:24:26.149144",
     "status": "completed"
    },
    "tags": []
   },
   "outputs": [],
   "source": [
    "dict1 = {\n",
    "    \"name\" : ['riya', 'diya', 'jiya'],\n",
    "    \"marks\" : [90, 95, 80],\n",
    "    \"city\" : ['porbandar', 'porbandar', 'junagadh']\n",
    "}"
   ]
  },
  {
   "cell_type": "code",
   "execution_count": 3,
   "id": "e5132682",
   "metadata": {
    "execution": {
     "iopub.execute_input": "2024-07-02T10:24:26.174216Z",
     "iopub.status.busy": "2024-07-02T10:24:26.173845Z",
     "iopub.status.idle": "2024-07-02T10:24:26.182093Z",
     "shell.execute_reply": "2024-07-02T10:24:26.180968Z"
    },
    "papermill": {
     "duration": 0.016616,
     "end_time": "2024-07-02T10:24:26.184337",
     "exception": false,
     "start_time": "2024-07-02T10:24:26.167721",
     "status": "completed"
    },
    "tags": []
   },
   "outputs": [],
   "source": [
    "df = pd.DataFrame(dict1)"
   ]
  },
  {
   "cell_type": "code",
   "execution_count": 4,
   "id": "272af52b",
   "metadata": {
    "execution": {
     "iopub.execute_input": "2024-07-02T10:24:26.196063Z",
     "iopub.status.busy": "2024-07-02T10:24:26.195243Z",
     "iopub.status.idle": "2024-07-02T10:24:26.217433Z",
     "shell.execute_reply": "2024-07-02T10:24:26.216115Z"
    },
    "papermill": {
     "duration": 0.030738,
     "end_time": "2024-07-02T10:24:26.220004",
     "exception": false,
     "start_time": "2024-07-02T10:24:26.189266",
     "status": "completed"
    },
    "tags": []
   },
   "outputs": [
    {
     "data": {
      "text/html": [
       "<div>\n",
       "<style scoped>\n",
       "    .dataframe tbody tr th:only-of-type {\n",
       "        vertical-align: middle;\n",
       "    }\n",
       "\n",
       "    .dataframe tbody tr th {\n",
       "        vertical-align: top;\n",
       "    }\n",
       "\n",
       "    .dataframe thead th {\n",
       "        text-align: right;\n",
       "    }\n",
       "</style>\n",
       "<table border=\"1\" class=\"dataframe\">\n",
       "  <thead>\n",
       "    <tr style=\"text-align: right;\">\n",
       "      <th></th>\n",
       "      <th>name</th>\n",
       "      <th>marks</th>\n",
       "      <th>city</th>\n",
       "    </tr>\n",
       "  </thead>\n",
       "  <tbody>\n",
       "    <tr>\n",
       "      <th>0</th>\n",
       "      <td>riya</td>\n",
       "      <td>90</td>\n",
       "      <td>porbandar</td>\n",
       "    </tr>\n",
       "    <tr>\n",
       "      <th>1</th>\n",
       "      <td>diya</td>\n",
       "      <td>95</td>\n",
       "      <td>porbandar</td>\n",
       "    </tr>\n",
       "    <tr>\n",
       "      <th>2</th>\n",
       "      <td>jiya</td>\n",
       "      <td>80</td>\n",
       "      <td>junagadh</td>\n",
       "    </tr>\n",
       "  </tbody>\n",
       "</table>\n",
       "</div>"
      ],
      "text/plain": [
       "   name  marks       city\n",
       "0  riya     90  porbandar\n",
       "1  diya     95  porbandar\n",
       "2  jiya     80   junagadh"
      ]
     },
     "execution_count": 4,
     "metadata": {},
     "output_type": "execute_result"
    }
   ],
   "source": [
    "df"
   ]
  },
  {
   "cell_type": "code",
   "execution_count": 5,
   "id": "88b43384",
   "metadata": {
    "execution": {
     "iopub.execute_input": "2024-07-02T10:24:26.231834Z",
     "iopub.status.busy": "2024-07-02T10:24:26.231454Z",
     "iopub.status.idle": "2024-07-02T10:24:26.241808Z",
     "shell.execute_reply": "2024-07-02T10:24:26.240731Z"
    },
    "papermill": {
     "duration": 0.019221,
     "end_time": "2024-07-02T10:24:26.244439",
     "exception": false,
     "start_time": "2024-07-02T10:24:26.225218",
     "status": "completed"
    },
    "tags": []
   },
   "outputs": [],
   "source": [
    "df.to_csv('friends.csv')"
   ]
  },
  {
   "cell_type": "code",
   "execution_count": 6,
   "id": "b2f17f0a",
   "metadata": {
    "execution": {
     "iopub.execute_input": "2024-07-02T10:24:26.256160Z",
     "iopub.status.busy": "2024-07-02T10:24:26.255765Z",
     "iopub.status.idle": "2024-07-02T10:24:26.263095Z",
     "shell.execute_reply": "2024-07-02T10:24:26.262095Z"
    },
    "papermill": {
     "duration": 0.016033,
     "end_time": "2024-07-02T10:24:26.265566",
     "exception": false,
     "start_time": "2024-07-02T10:24:26.249533",
     "status": "completed"
    },
    "tags": []
   },
   "outputs": [],
   "source": [
    "df.to_csv('friends_index_false.csv', index=False)"
   ]
  },
  {
   "cell_type": "code",
   "execution_count": 7,
   "id": "08c8d268",
   "metadata": {
    "execution": {
     "iopub.execute_input": "2024-07-02T10:24:26.277617Z",
     "iopub.status.busy": "2024-07-02T10:24:26.277228Z",
     "iopub.status.idle": "2024-07-02T10:24:26.287555Z",
     "shell.execute_reply": "2024-07-02T10:24:26.286523Z"
    },
    "papermill": {
     "duration": 0.019,
     "end_time": "2024-07-02T10:24:26.289870",
     "exception": false,
     "start_time": "2024-07-02T10:24:26.270870",
     "status": "completed"
    },
    "tags": []
   },
   "outputs": [
    {
     "data": {
      "text/html": [
       "<div>\n",
       "<style scoped>\n",
       "    .dataframe tbody tr th:only-of-type {\n",
       "        vertical-align: middle;\n",
       "    }\n",
       "\n",
       "    .dataframe tbody tr th {\n",
       "        vertical-align: top;\n",
       "    }\n",
       "\n",
       "    .dataframe thead th {\n",
       "        text-align: right;\n",
       "    }\n",
       "</style>\n",
       "<table border=\"1\" class=\"dataframe\">\n",
       "  <thead>\n",
       "    <tr style=\"text-align: right;\">\n",
       "      <th></th>\n",
       "      <th>name</th>\n",
       "      <th>marks</th>\n",
       "      <th>city</th>\n",
       "    </tr>\n",
       "  </thead>\n",
       "  <tbody>\n",
       "    <tr>\n",
       "      <th>0</th>\n",
       "      <td>riya</td>\n",
       "      <td>90</td>\n",
       "      <td>porbandar</td>\n",
       "    </tr>\n",
       "  </tbody>\n",
       "</table>\n",
       "</div>"
      ],
      "text/plain": [
       "   name  marks       city\n",
       "0  riya     90  porbandar"
      ]
     },
     "execution_count": 7,
     "metadata": {},
     "output_type": "execute_result"
    }
   ],
   "source": [
    "df.head(1)"
   ]
  },
  {
   "cell_type": "code",
   "execution_count": 8,
   "id": "384f8ed9",
   "metadata": {
    "execution": {
     "iopub.execute_input": "2024-07-02T10:24:26.301699Z",
     "iopub.status.busy": "2024-07-02T10:24:26.301333Z",
     "iopub.status.idle": "2024-07-02T10:24:26.311793Z",
     "shell.execute_reply": "2024-07-02T10:24:26.310561Z"
    },
    "papermill": {
     "duration": 0.019151,
     "end_time": "2024-07-02T10:24:26.314186",
     "exception": false,
     "start_time": "2024-07-02T10:24:26.295035",
     "status": "completed"
    },
    "tags": []
   },
   "outputs": [
    {
     "data": {
      "text/html": [
       "<div>\n",
       "<style scoped>\n",
       "    .dataframe tbody tr th:only-of-type {\n",
       "        vertical-align: middle;\n",
       "    }\n",
       "\n",
       "    .dataframe tbody tr th {\n",
       "        vertical-align: top;\n",
       "    }\n",
       "\n",
       "    .dataframe thead th {\n",
       "        text-align: right;\n",
       "    }\n",
       "</style>\n",
       "<table border=\"1\" class=\"dataframe\">\n",
       "  <thead>\n",
       "    <tr style=\"text-align: right;\">\n",
       "      <th></th>\n",
       "      <th>name</th>\n",
       "      <th>marks</th>\n",
       "      <th>city</th>\n",
       "    </tr>\n",
       "  </thead>\n",
       "  <tbody>\n",
       "    <tr>\n",
       "      <th>0</th>\n",
       "      <td>riya</td>\n",
       "      <td>90</td>\n",
       "      <td>porbandar</td>\n",
       "    </tr>\n",
       "    <tr>\n",
       "      <th>1</th>\n",
       "      <td>diya</td>\n",
       "      <td>95</td>\n",
       "      <td>porbandar</td>\n",
       "    </tr>\n",
       "  </tbody>\n",
       "</table>\n",
       "</div>"
      ],
      "text/plain": [
       "   name  marks       city\n",
       "0  riya     90  porbandar\n",
       "1  diya     95  porbandar"
      ]
     },
     "execution_count": 8,
     "metadata": {},
     "output_type": "execute_result"
    }
   ],
   "source": [
    "df.head(2)"
   ]
  },
  {
   "cell_type": "code",
   "execution_count": 9,
   "id": "1753ce69",
   "metadata": {
    "execution": {
     "iopub.execute_input": "2024-07-02T10:24:26.326452Z",
     "iopub.status.busy": "2024-07-02T10:24:26.326068Z",
     "iopub.status.idle": "2024-07-02T10:24:26.336411Z",
     "shell.execute_reply": "2024-07-02T10:24:26.335281Z"
    },
    "papermill": {
     "duration": 0.019137,
     "end_time": "2024-07-02T10:24:26.338723",
     "exception": false,
     "start_time": "2024-07-02T10:24:26.319586",
     "status": "completed"
    },
    "tags": []
   },
   "outputs": [
    {
     "data": {
      "text/html": [
       "<div>\n",
       "<style scoped>\n",
       "    .dataframe tbody tr th:only-of-type {\n",
       "        vertical-align: middle;\n",
       "    }\n",
       "\n",
       "    .dataframe tbody tr th {\n",
       "        vertical-align: top;\n",
       "    }\n",
       "\n",
       "    .dataframe thead th {\n",
       "        text-align: right;\n",
       "    }\n",
       "</style>\n",
       "<table border=\"1\" class=\"dataframe\">\n",
       "  <thead>\n",
       "    <tr style=\"text-align: right;\">\n",
       "      <th></th>\n",
       "      <th>name</th>\n",
       "      <th>marks</th>\n",
       "      <th>city</th>\n",
       "    </tr>\n",
       "  </thead>\n",
       "  <tbody>\n",
       "    <tr>\n",
       "      <th>1</th>\n",
       "      <td>diya</td>\n",
       "      <td>95</td>\n",
       "      <td>porbandar</td>\n",
       "    </tr>\n",
       "    <tr>\n",
       "      <th>2</th>\n",
       "      <td>jiya</td>\n",
       "      <td>80</td>\n",
       "      <td>junagadh</td>\n",
       "    </tr>\n",
       "  </tbody>\n",
       "</table>\n",
       "</div>"
      ],
      "text/plain": [
       "   name  marks       city\n",
       "1  diya     95  porbandar\n",
       "2  jiya     80   junagadh"
      ]
     },
     "execution_count": 9,
     "metadata": {},
     "output_type": "execute_result"
    }
   ],
   "source": [
    "df.tail(2)"
   ]
  },
  {
   "cell_type": "code",
   "execution_count": 10,
   "id": "bd3e2029",
   "metadata": {
    "execution": {
     "iopub.execute_input": "2024-07-02T10:24:26.351223Z",
     "iopub.status.busy": "2024-07-02T10:24:26.350839Z",
     "iopub.status.idle": "2024-07-02T10:24:26.370442Z",
     "shell.execute_reply": "2024-07-02T10:24:26.369353Z"
    },
    "papermill": {
     "duration": 0.028692,
     "end_time": "2024-07-02T10:24:26.372874",
     "exception": false,
     "start_time": "2024-07-02T10:24:26.344182",
     "status": "completed"
    },
    "tags": []
   },
   "outputs": [
    {
     "data": {
      "text/html": [
       "<div>\n",
       "<style scoped>\n",
       "    .dataframe tbody tr th:only-of-type {\n",
       "        vertical-align: middle;\n",
       "    }\n",
       "\n",
       "    .dataframe tbody tr th {\n",
       "        vertical-align: top;\n",
       "    }\n",
       "\n",
       "    .dataframe thead th {\n",
       "        text-align: right;\n",
       "    }\n",
       "</style>\n",
       "<table border=\"1\" class=\"dataframe\">\n",
       "  <thead>\n",
       "    <tr style=\"text-align: right;\">\n",
       "      <th></th>\n",
       "      <th>marks</th>\n",
       "    </tr>\n",
       "  </thead>\n",
       "  <tbody>\n",
       "    <tr>\n",
       "      <th>count</th>\n",
       "      <td>3.000000</td>\n",
       "    </tr>\n",
       "    <tr>\n",
       "      <th>mean</th>\n",
       "      <td>88.333333</td>\n",
       "    </tr>\n",
       "    <tr>\n",
       "      <th>std</th>\n",
       "      <td>7.637626</td>\n",
       "    </tr>\n",
       "    <tr>\n",
       "      <th>min</th>\n",
       "      <td>80.000000</td>\n",
       "    </tr>\n",
       "    <tr>\n",
       "      <th>25%</th>\n",
       "      <td>85.000000</td>\n",
       "    </tr>\n",
       "    <tr>\n",
       "      <th>50%</th>\n",
       "      <td>90.000000</td>\n",
       "    </tr>\n",
       "    <tr>\n",
       "      <th>75%</th>\n",
       "      <td>92.500000</td>\n",
       "    </tr>\n",
       "    <tr>\n",
       "      <th>max</th>\n",
       "      <td>95.000000</td>\n",
       "    </tr>\n",
       "  </tbody>\n",
       "</table>\n",
       "</div>"
      ],
      "text/plain": [
       "           marks\n",
       "count   3.000000\n",
       "mean   88.333333\n",
       "std     7.637626\n",
       "min    80.000000\n",
       "25%    85.000000\n",
       "50%    90.000000\n",
       "75%    92.500000\n",
       "max    95.000000"
      ]
     },
     "execution_count": 10,
     "metadata": {},
     "output_type": "execute_result"
    }
   ],
   "source": [
    "df.describe()"
   ]
  },
  {
   "cell_type": "code",
   "execution_count": 11,
   "id": "e755b595",
   "metadata": {
    "execution": {
     "iopub.execute_input": "2024-07-02T10:24:26.386172Z",
     "iopub.status.busy": "2024-07-02T10:24:26.385371Z",
     "iopub.status.idle": "2024-07-02T10:24:26.395396Z",
     "shell.execute_reply": "2024-07-02T10:24:26.394312Z"
    },
    "papermill": {
     "duration": 0.019332,
     "end_time": "2024-07-02T10:24:26.397837",
     "exception": false,
     "start_time": "2024-07-02T10:24:26.378505",
     "status": "completed"
    },
    "tags": []
   },
   "outputs": [],
   "source": [
    "dia = pd.read_csv('friends_index_false.csv')"
   ]
  },
  {
   "cell_type": "code",
   "execution_count": 12,
   "id": "392fcfca",
   "metadata": {
    "execution": {
     "iopub.execute_input": "2024-07-02T10:24:26.411202Z",
     "iopub.status.busy": "2024-07-02T10:24:26.410502Z",
     "iopub.status.idle": "2024-07-02T10:24:26.421135Z",
     "shell.execute_reply": "2024-07-02T10:24:26.419787Z"
    },
    "papermill": {
     "duration": 0.019698,
     "end_time": "2024-07-02T10:24:26.423355",
     "exception": false,
     "start_time": "2024-07-02T10:24:26.403657",
     "status": "completed"
    },
    "tags": []
   },
   "outputs": [
    {
     "data": {
      "text/html": [
       "<div>\n",
       "<style scoped>\n",
       "    .dataframe tbody tr th:only-of-type {\n",
       "        vertical-align: middle;\n",
       "    }\n",
       "\n",
       "    .dataframe tbody tr th {\n",
       "        vertical-align: top;\n",
       "    }\n",
       "\n",
       "    .dataframe thead th {\n",
       "        text-align: right;\n",
       "    }\n",
       "</style>\n",
       "<table border=\"1\" class=\"dataframe\">\n",
       "  <thead>\n",
       "    <tr style=\"text-align: right;\">\n",
       "      <th></th>\n",
       "      <th>name</th>\n",
       "      <th>marks</th>\n",
       "      <th>city</th>\n",
       "    </tr>\n",
       "  </thead>\n",
       "  <tbody>\n",
       "    <tr>\n",
       "      <th>0</th>\n",
       "      <td>riya</td>\n",
       "      <td>90</td>\n",
       "      <td>porbandar</td>\n",
       "    </tr>\n",
       "    <tr>\n",
       "      <th>1</th>\n",
       "      <td>diya</td>\n",
       "      <td>95</td>\n",
       "      <td>porbandar</td>\n",
       "    </tr>\n",
       "    <tr>\n",
       "      <th>2</th>\n",
       "      <td>jiya</td>\n",
       "      <td>80</td>\n",
       "      <td>junagadh</td>\n",
       "    </tr>\n",
       "  </tbody>\n",
       "</table>\n",
       "</div>"
      ],
      "text/plain": [
       "   name  marks       city\n",
       "0  riya     90  porbandar\n",
       "1  diya     95  porbandar\n",
       "2  jiya     80   junagadh"
      ]
     },
     "execution_count": 12,
     "metadata": {},
     "output_type": "execute_result"
    }
   ],
   "source": [
    "dia"
   ]
  },
  {
   "cell_type": "code",
   "execution_count": 13,
   "id": "f1b62353",
   "metadata": {
    "execution": {
     "iopub.execute_input": "2024-07-02T10:24:26.437473Z",
     "iopub.status.busy": "2024-07-02T10:24:26.436543Z",
     "iopub.status.idle": "2024-07-02T10:24:26.444026Z",
     "shell.execute_reply": "2024-07-02T10:24:26.443026Z"
    },
    "papermill": {
     "duration": 0.016857,
     "end_time": "2024-07-02T10:24:26.446374",
     "exception": false,
     "start_time": "2024-07-02T10:24:26.429517",
     "status": "completed"
    },
    "tags": []
   },
   "outputs": [],
   "source": [
    "dia1 = pd.read_csv('friends.csv')"
   ]
  },
  {
   "cell_type": "code",
   "execution_count": 14,
   "id": "094855b6",
   "metadata": {
    "execution": {
     "iopub.execute_input": "2024-07-02T10:24:26.459705Z",
     "iopub.status.busy": "2024-07-02T10:24:26.459337Z",
     "iopub.status.idle": "2024-07-02T10:24:26.470129Z",
     "shell.execute_reply": "2024-07-02T10:24:26.469059Z"
    },
    "papermill": {
     "duration": 0.01993,
     "end_time": "2024-07-02T10:24:26.472189",
     "exception": false,
     "start_time": "2024-07-02T10:24:26.452259",
     "status": "completed"
    },
    "tags": []
   },
   "outputs": [
    {
     "data": {
      "text/html": [
       "<div>\n",
       "<style scoped>\n",
       "    .dataframe tbody tr th:only-of-type {\n",
       "        vertical-align: middle;\n",
       "    }\n",
       "\n",
       "    .dataframe tbody tr th {\n",
       "        vertical-align: top;\n",
       "    }\n",
       "\n",
       "    .dataframe thead th {\n",
       "        text-align: right;\n",
       "    }\n",
       "</style>\n",
       "<table border=\"1\" class=\"dataframe\">\n",
       "  <thead>\n",
       "    <tr style=\"text-align: right;\">\n",
       "      <th></th>\n",
       "      <th>Unnamed: 0</th>\n",
       "      <th>name</th>\n",
       "      <th>marks</th>\n",
       "      <th>city</th>\n",
       "    </tr>\n",
       "  </thead>\n",
       "  <tbody>\n",
       "    <tr>\n",
       "      <th>0</th>\n",
       "      <td>0</td>\n",
       "      <td>riya</td>\n",
       "      <td>90</td>\n",
       "      <td>porbandar</td>\n",
       "    </tr>\n",
       "    <tr>\n",
       "      <th>1</th>\n",
       "      <td>1</td>\n",
       "      <td>diya</td>\n",
       "      <td>95</td>\n",
       "      <td>porbandar</td>\n",
       "    </tr>\n",
       "    <tr>\n",
       "      <th>2</th>\n",
       "      <td>2</td>\n",
       "      <td>jiya</td>\n",
       "      <td>80</td>\n",
       "      <td>junagadh</td>\n",
       "    </tr>\n",
       "  </tbody>\n",
       "</table>\n",
       "</div>"
      ],
      "text/plain": [
       "   Unnamed: 0  name  marks       city\n",
       "0           0  riya     90  porbandar\n",
       "1           1  diya     95  porbandar\n",
       "2           2  jiya     80   junagadh"
      ]
     },
     "execution_count": 14,
     "metadata": {},
     "output_type": "execute_result"
    }
   ],
   "source": [
    "dia1"
   ]
  },
  {
   "cell_type": "code",
   "execution_count": 15,
   "id": "ddc8a629",
   "metadata": {
    "execution": {
     "iopub.execute_input": "2024-07-02T10:24:26.485973Z",
     "iopub.status.busy": "2024-07-02T10:24:26.485572Z",
     "iopub.status.idle": "2024-07-02T10:24:26.493289Z",
     "shell.execute_reply": "2024-07-02T10:24:26.492143Z"
    },
    "papermill": {
     "duration": 0.017092,
     "end_time": "2024-07-02T10:24:26.495475",
     "exception": false,
     "start_time": "2024-07-02T10:24:26.478383",
     "status": "completed"
    },
    "tags": []
   },
   "outputs": [
    {
     "data": {
      "text/plain": [
       "0    riya\n",
       "1    diya\n",
       "2    jiya\n",
       "Name: name, dtype: object"
      ]
     },
     "execution_count": 15,
     "metadata": {},
     "output_type": "execute_result"
    }
   ],
   "source": [
    "dia['name']"
   ]
  },
  {
   "cell_type": "code",
   "execution_count": 16,
   "id": "872a0eba",
   "metadata": {
    "execution": {
     "iopub.execute_input": "2024-07-02T10:24:26.509380Z",
     "iopub.status.busy": "2024-07-02T10:24:26.508977Z",
     "iopub.status.idle": "2024-07-02T10:24:26.515885Z",
     "shell.execute_reply": "2024-07-02T10:24:26.514789Z"
    },
    "papermill": {
     "duration": 0.016346,
     "end_time": "2024-07-02T10:24:26.517943",
     "exception": false,
     "start_time": "2024-07-02T10:24:26.501597",
     "status": "completed"
    },
    "tags": []
   },
   "outputs": [
    {
     "data": {
      "text/plain": [
       "'diya'"
      ]
     },
     "execution_count": 16,
     "metadata": {},
     "output_type": "execute_result"
    }
   ],
   "source": [
    "dia['name'][1]"
   ]
  },
  {
   "cell_type": "code",
   "execution_count": 17,
   "id": "0b6c1b38",
   "metadata": {
    "execution": {
     "iopub.execute_input": "2024-07-02T10:24:26.532455Z",
     "iopub.status.busy": "2024-07-02T10:24:26.532067Z",
     "iopub.status.idle": "2024-07-02T10:24:26.538825Z",
     "shell.execute_reply": "2024-07-02T10:24:26.537837Z"
    },
    "papermill": {
     "duration": 0.01714,
     "end_time": "2024-07-02T10:24:26.541658",
     "exception": false,
     "start_time": "2024-07-02T10:24:26.524518",
     "status": "completed"
    },
    "tags": []
   },
   "outputs": [
    {
     "name": "stderr",
     "output_type": "stream",
     "text": [
      "/tmp/ipykernel_18/642256480.py:1: FutureWarning: ChainedAssignmentError: behaviour will change in pandas 3.0!\n",
      "You are setting values through chained assignment. Currently this works in certain cases, but when using Copy-on-Write (which will become the default behaviour in pandas 3.0) this will never work to update the original DataFrame or Series, because the intermediate object on which we are setting values will behave as a copy.\n",
      "A typical example is when you are setting values in a column of a DataFrame, like:\n",
      "\n",
      "df[\"col\"][row_indexer] = value\n",
      "\n",
      "Use `df.loc[row_indexer, \"col\"] = values` instead, to perform the assignment in a single step and ensure this keeps updating the original `df`.\n",
      "\n",
      "See the caveats in the documentation: https://pandas.pydata.org/pandas-docs/stable/user_guide/indexing.html#returning-a-view-versus-a-copy\n",
      "\n",
      "  dia['marks'][2] = 89\n",
      "/tmp/ipykernel_18/642256480.py:1: SettingWithCopyWarning: \n",
      "A value is trying to be set on a copy of a slice from a DataFrame\n",
      "\n",
      "See the caveats in the documentation: https://pandas.pydata.org/pandas-docs/stable/user_guide/indexing.html#returning-a-view-versus-a-copy\n",
      "  dia['marks'][2] = 89\n"
     ]
    }
   ],
   "source": [
    "dia['marks'][2] = 89"
   ]
  },
  {
   "cell_type": "code",
   "execution_count": 18,
   "id": "bda08dca",
   "metadata": {
    "execution": {
     "iopub.execute_input": "2024-07-02T10:24:26.556972Z",
     "iopub.status.busy": "2024-07-02T10:24:26.555881Z",
     "iopub.status.idle": "2024-07-02T10:24:26.566254Z",
     "shell.execute_reply": "2024-07-02T10:24:26.564959Z"
    },
    "papermill": {
     "duration": 0.020262,
     "end_time": "2024-07-02T10:24:26.568544",
     "exception": false,
     "start_time": "2024-07-02T10:24:26.548282",
     "status": "completed"
    },
    "tags": []
   },
   "outputs": [
    {
     "data": {
      "text/html": [
       "<div>\n",
       "<style scoped>\n",
       "    .dataframe tbody tr th:only-of-type {\n",
       "        vertical-align: middle;\n",
       "    }\n",
       "\n",
       "    .dataframe tbody tr th {\n",
       "        vertical-align: top;\n",
       "    }\n",
       "\n",
       "    .dataframe thead th {\n",
       "        text-align: right;\n",
       "    }\n",
       "</style>\n",
       "<table border=\"1\" class=\"dataframe\">\n",
       "  <thead>\n",
       "    <tr style=\"text-align: right;\">\n",
       "      <th></th>\n",
       "      <th>name</th>\n",
       "      <th>marks</th>\n",
       "      <th>city</th>\n",
       "    </tr>\n",
       "  </thead>\n",
       "  <tbody>\n",
       "    <tr>\n",
       "      <th>0</th>\n",
       "      <td>riya</td>\n",
       "      <td>90</td>\n",
       "      <td>porbandar</td>\n",
       "    </tr>\n",
       "    <tr>\n",
       "      <th>1</th>\n",
       "      <td>diya</td>\n",
       "      <td>95</td>\n",
       "      <td>porbandar</td>\n",
       "    </tr>\n",
       "    <tr>\n",
       "      <th>2</th>\n",
       "      <td>jiya</td>\n",
       "      <td>89</td>\n",
       "      <td>junagadh</td>\n",
       "    </tr>\n",
       "  </tbody>\n",
       "</table>\n",
       "</div>"
      ],
      "text/plain": [
       "   name  marks       city\n",
       "0  riya     90  porbandar\n",
       "1  diya     95  porbandar\n",
       "2  jiya     89   junagadh"
      ]
     },
     "execution_count": 18,
     "metadata": {},
     "output_type": "execute_result"
    }
   ],
   "source": [
    "dia"
   ]
  },
  {
   "cell_type": "code",
   "execution_count": null,
   "id": "c8d0e2b1",
   "metadata": {
    "papermill": {
     "duration": 0.006546,
     "end_time": "2024-07-02T10:24:26.581693",
     "exception": false,
     "start_time": "2024-07-02T10:24:26.575147",
     "status": "completed"
    },
    "tags": []
   },
   "outputs": [],
   "source": []
  }
 ],
 "metadata": {
  "kaggle": {
   "accelerator": "none",
   "dataSources": [],
   "dockerImageVersionId": 30732,
   "isGpuEnabled": false,
   "isInternetEnabled": false,
   "language": "python",
   "sourceType": "notebook"
  },
  "kernelspec": {
   "display_name": "Python 3",
   "language": "python",
   "name": "python3"
  },
  "language_info": {
   "codemirror_mode": {
    "name": "ipython",
    "version": 3
   },
   "file_extension": ".py",
   "mimetype": "text/x-python",
   "name": "python",
   "nbconvert_exporter": "python",
   "pygments_lexer": "ipython3",
   "version": "3.10.13"
  },
  "papermill": {
   "default_parameters": {},
   "duration": 4.529703,
   "end_time": "2024-07-02T10:24:27.009695",
   "environment_variables": {},
   "exception": null,
   "input_path": "__notebook__.ipynb",
   "output_path": "__notebook__.ipynb",
   "parameters": {},
   "start_time": "2024-07-02T10:24:22.479992",
   "version": "2.5.0"
  }
 },
 "nbformat": 4,
 "nbformat_minor": 5
}
